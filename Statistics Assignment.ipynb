{
 "cells": [
  {
   "cell_type": "markdown",
   "id": "3f841cc8-61ba-4b50-94c3-102a9c952d9a",
   "metadata": {},
   "source": [
    "Q1. What is Statistics?"
   ]
  },
  {
   "cell_type": "markdown",
   "id": "d5f5bc50-5bd7-4322-8872-d9094ff1e485",
   "metadata": {},
   "source": [
    "Statistics is the science of collecting, organizing and analyzing the data."
   ]
  },
  {
   "cell_type": "markdown",
   "id": "4f772e2e-53b4-4945-9631-56ab5b0b5344",
   "metadata": {},
   "source": [
    "Q2. Define the different types of statistics and give an example of when each type might be used."
   ]
  },
  {
   "cell_type": "markdown",
   "id": "9a51a275-45f8-4111-90c9-1fd59a83ff73",
   "metadata": {},
   "source": [
    "There is two types od statistics -\n",
    "1. Descriptive Statistics \n",
    "2. Inferential Statistics\n",
    "\n",
    "Descriptive Statisctics used in Measure of central tendency (Mean, Median, Mode), Measure of despersion (Variation, strandard deviation), Histogram, pie chart, Bar graph.\n",
    "\n",
    "Inferential Statistics used in experiments like Z-test and t-test."
   ]
  },
  {
   "cell_type": "markdown",
   "id": "71017b3d-1970-4971-b881-5dfb86502e99",
   "metadata": {},
   "source": [
    "Q3. What are the different types of data and how do they differ from each other? Provide an example of\n",
    "each type of data."
   ]
  },
  {
   "cell_type": "markdown",
   "id": "dc483a62-1932-4ab5-ab26-2ef4b4a478c0",
   "metadata": {},
   "source": [
    "There are two types of data Qualitative and Quantitative\n",
    "\n",
    "Quantitative data is numbers-based, countable, or measurable data on the other hand Qualitative data is interpretion-based, descriptive, and relating to language.\n",
    "Quantitative data tells us how many, how much, or how often in calculation. Qualitative data can help us to understand why, how, or what happened behind the certain behaviours.\n",
    "\n",
    "Quantitative examples - age, weight, heing, length, population, size and other numerical values while examples of qualitative observation are colour, smell, taste, touch or feeling."
   ]
  },
  {
   "cell_type": "markdown",
   "id": "69e31136-2979-40f0-a982-5bcdf72c4fb6",
   "metadata": {},
   "source": [
    "Q4. Categorise the following datasets with respect to quantitative and qualitative data types:\n",
    "(i) Grading in exam: A+, A, B+, B, C+, C, D, E\n",
    "(ii) Colour of mangoes: yellow, green, orange, red\n",
    "(iii) Height data of a class: [178.9, 179, 179.5, 176, 177.2, 178.3, 175.8,...]\n",
    "(iv) Number of mangoes exported by a farm: [500, 600, 478, 672, ...]"
   ]
  },
  {
   "cell_type": "markdown",
   "id": "1920fd0c-2d8f-4955-bfe7-843e6365e0dd",
   "metadata": {},
   "source": [
    "1st is Quantitative data type\n",
    "2nd is Qualitative data type\n",
    "3rd is Quantitative data type\n",
    "4th is also quatitative data type"
   ]
  },
  {
   "cell_type": "markdown",
   "id": "ed8c23c2-86fc-4213-a7cc-c2941b5624bb",
   "metadata": {},
   "source": [
    "Q5. Explain the concept of levels of measurement and give an example of a variable for each level."
   ]
  },
  {
   "cell_type": "markdown",
   "id": "5713f464-c1b1-48ef-a3df-e4d51d8bcb19",
   "metadata": {},
   "source": [
    "Levels of measurement refers to the different ways in which variables can be measured and the implications for the types of statistical analysis that can be applied to them.\n",
    "\n",
    "Nominal Level- An example of a nominal variable is \"gender,\" where individuals can be categorized as male or female. The numbers assigned to each category are used only to classify the data \n",
    "\n",
    "Ordinal Level - An example of an ordinal variable is \"educational attainment,\" where individuals can be ranked based on their level of education, such as high school diploma, bachelor's degree, or master's degree \n",
    "\n",
    "Interval Level - An example of an interval variable is \"temperature in Celsius,\" where the intervals between values are interpretable, but a value of zero does not indicate the absence of the variable being measured \n",
    "\n",
    "Ratio Level - An example of a ratio variable is \"income,\" where a value of zero indicates no income, and higher values represent increasing levels of income \n"
   ]
  },
  {
   "cell_type": "markdown",
   "id": "87031e37-66dc-40d5-bdd0-5d5043240622",
   "metadata": {},
   "source": [
    "Q6. Why is it important to understand the level of measurement when analyzing data? Provide an\n",
    "example to illustrate your answer."
   ]
  },
  {
   "cell_type": "markdown",
   "id": "d3c1aec0-76dd-4b32-89c4-c661c898e0d0",
   "metadata": {},
   "source": [
    "Understanding the level of measurement of variables is crucial when analyzing data as it determines the appropriate statistical methods and analyses that can be applied. Different levels of measurement have distinct characteristics that impact the type of statistical operations that can be performed on the data.\n",
    "\n",
    "Example - For instance, if we consider the variable \"income,\" the level of measurement is essential in determining the appropriate statistical analysis. If income is measured as an interval or ratio variable, statistical operations such as calculating means, standard deviations, and conducting parametric tests are appropriate. However, if income is measured at a nominal level, only non-parametric tests and descriptive statistics like mode and frequency distributions can be used for analysis.\n",
    "Understanding the level of measurement of variables ensures that appropriate statistical techniques are applied, leading to accurate and meaningful interpretations of the data."
   ]
  },
  {
   "cell_type": "markdown",
   "id": "5cccf6f1-1af8-4f0f-b439-146b0b62217c",
   "metadata": {},
   "source": [
    "Q7. How nominal data type is different from ordinal data type."
   ]
  },
  {
   "cell_type": "markdown",
   "id": "95c1275d-1545-4e56-bd5b-a256fee24500",
   "metadata": {},
   "source": [
    "The distinction between nominal and ordinal data types lies in the nature of the categories and the presence or absence of a meaningful order within the data.\n",
    "\n",
    "Nominal Data Type - Nominal data includes names or characteristics that fall into two or more categories, and these categories have no inherent ordering.\n",
    "An example of nominal data is \"gender,\" where individuals can be categorized as male or female. The categories are distinct, but there is no inherent order or ranking between them.\n",
    "\n",
    "Ordinal Data Type - Ordinal data, on the other hand, involves categories that have a natural ordering or ranking.\n",
    "An example of ordinal data is \"educational attainment,\" where individuals can be ranked based on their level of education, such as high school diploma, bachelor's degree, or master's degree. The categories have a clear order, but the differences between them may not be uniform\n",
    "."
   ]
  },
  {
   "cell_type": "markdown",
   "id": "1d694088-8f06-4a46-9bd7-2644ef9a20de",
   "metadata": {},
   "source": [
    "Q8. Which type of plot can be used to display data in terms of range?"
   ]
  },
  {
   "cell_type": "markdown",
   "id": "fe5d4310-0171-46a1-8c42-61dfab62caac",
   "metadata": {},
   "source": [
    "A plot that can be used to display data in terms of range is a Quantile-Quantile (Q-Q) plot.\n",
    "\n",
    "A Q-Q plot is a graphical tool used to assess whether a dataset follows a particular distribution, such as the normal distribution. It compares the quantiles of the dataset to the quantiles of a theoretical distribution, allowing for visual assessment of how closely the dataset matches the theoretical distribution across its range."
   ]
  },
  {
   "cell_type": "markdown",
   "id": "8980b88e-65a6-4369-a815-54beb82b30b9",
   "metadata": {},
   "source": [
    "Q9. Describe the difference between descriptive and inferential statistics. Give an example of each\n",
    "type of statistics and explain how they are used."
   ]
  },
  {
   "cell_type": "markdown",
   "id": "4bd55f46-0bfd-4af4-b0c1-abf6417a9102",
   "metadata": {},
   "source": [
    "Descriptive Statistics - Descriptive statistics involve measures of central tendency, dispersion, and graphical representations to describe, summarize, and present data in a meaningful way. These statistics are used to provide a clear understanding of the characteristics of a dataset. For example, calculating the mean, median, and mode of a dataset, along with creating histograms or box plots to visualize the distribution of the data.\n",
    "\n",
    "Example: Calculating the average income of a sample of individuals in a specific region and creating a histogram to display the income distribution within the sample.\n",
    "\n",
    "Inferential Statistics - Inferential statistics, on the other hand, are used to make predictions and generalizations about a population based on sample data. These statistics involve hypothesis testing, regression analysis, and confidence intervals to draw conclusions about a larger population from the observed sample. Inferential statistics use sample data to predict the trend of the population data and make inferences about the population using analytical tools.\n",
    "\n",
    "Example: Conducting a hypothesis test to determine if there is a significant difference in the average income between two different regions based on sample data, and then using the results to make inferences about the entire population in those regions."
   ]
  },
  {
   "cell_type": "markdown",
   "id": "5c493663-9832-40dc-8387-82c0cca401bb",
   "metadata": {},
   "source": [
    "Q10. What are some common measures of central tendency and variability used in statistics? Explain\n",
    "how each measure can be used to describe a dataset."
   ]
  },
  {
   "cell_type": "markdown",
   "id": "08fcd0fd-2f92-4914-8477-cd00d4b2650c",
   "metadata": {},
   "source": [
    "Measures of Central Tendency -\n",
    "\n",
    "Mean (Average) - The mean is the sum of all values in a dataset divided by the total number of values. It provides the most information of any measure of central tendency, but it is sensitive to outliers. The mean is often used to describe the typical value of a dataset, especially when the data is normally distributed. However, extreme values can significantly impact the mean, making it less representative in skewed distributions.\n",
    "\n",
    "Median - The median is the middle value in an ordered dataset. It is less sensitive to extreme values compared to the mean, making it a robust measure of central tendency, particularly in skewed distributions. The median is useful for describing the central value of a dataset when extreme values are present.\n",
    "\n",
    "Mode - The mode is the most frequently occurring value in a dataset. It is particularly useful for identifying the most common value or category in a dataset, especially in categorical data. However, the mode may not fully represent the central tendency if the dataset is not concentrated around a single value.\n",
    "\n",
    "Measures of Variability -\n",
    "Variance: The variance measures how much the values in a dataset deviate from the mean. It provides a measure of the spread or dispersion of the data points around the mean. A higher variance indicates greater variability in the dataset.\n",
    "\n",
    "Standard Deviation - The standard deviation is the square root of the variance. It provides a measure of the average distance of data points from the mean. A smaller standard deviation indicates that the data points are closer to the mean, while a larger standard deviation indicates greater dispersion.\n",
    "\n",
    "How They Are Used:\n",
    "Mean - The mean is commonly used to describe the average value of a dataset, especially when the data is normally distributed and there are no extreme values that significantly impact the average.\n",
    "\n",
    "Median - The median is used to describe the central value of a dataset, particularly when the data is skewed or contains extreme values that could distort the mean.\n",
    "Mode - The mode is used to identify the most common value or category in a dataset, especially in categorical data.\n",
    "\n",
    "Variance and Standard Deviation: These measures of variability are used to quantify the spread or dispersion of data points around the central tendency, providing insights into the variability of the dataset"
   ]
  },
  {
   "cell_type": "code",
   "execution_count": null,
   "id": "b35b7196-70fd-4b9a-a0d6-340e1db2290b",
   "metadata": {},
   "outputs": [],
   "source": []
  }
 ],
 "metadata": {
  "kernelspec": {
   "display_name": "Python 3 (ipykernel)",
   "language": "python",
   "name": "python3"
  },
  "language_info": {
   "codemirror_mode": {
    "name": "ipython",
    "version": 3
   },
   "file_extension": ".py",
   "mimetype": "text/x-python",
   "name": "python",
   "nbconvert_exporter": "python",
   "pygments_lexer": "ipython3",
   "version": "3.10.8"
  }
 },
 "nbformat": 4,
 "nbformat_minor": 5
}
